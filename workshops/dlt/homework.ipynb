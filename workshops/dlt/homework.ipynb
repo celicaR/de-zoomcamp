{
  "cells": [
    {
      "cell_type": "markdown",
      "metadata": {
        "id": "mrTFv5nPClXh"
      },
      "source": [
        "# **Homework**: Data talks club data engineering zoomcamp Data loading workshop\n",
        "\n",
        "Hello folks, let's practice what we learned - Loading data with the best practices of data engineering.\n",
        "\n",
        "Here are the exercises we will do\n",
        "\n",
        "\n"
      ]
    },
    {
      "cell_type": "markdown",
      "metadata": {
        "id": "wLF4iXf-NR7t"
      },
      "source": [
        "# 1. Use a generator\n",
        "\n",
        "Remember the concept of generator? Let's practice using them to futher our understanding of how they work.\n",
        "\n",
        "Let's define a generator and then run it as practice.\n",
        "\n",
        "**Answer the following questions:**\n",
        "\n",
        "- **Question 1: What is the sum of the outputs of the generator for limit = 5?**\n",
        "- **Question 2: What is the 13th number yielded**\n",
        "\n",
        "I suggest practicing these questions without GPT as the purpose is to further your learning."
      ]
    },
    {
      "cell_type": "code",
      "execution_count": 1,
      "metadata": {
        "colab": {
          "base_uri": "https://localhost:8080/"
        },
        "id": "wLng-bDJN4jf",
        "outputId": "e9eae658-368d-451c-8d3c-b94354f4bc9d"
      },
      "outputs": [
        {
          "name": "stdout",
          "output_type": "stream",
          "text": [
            "1.0\n",
            "1.4142135623730951\n",
            "1.7320508075688772\n",
            "2.0\n",
            "2.23606797749979\n"
          ]
        }
      ],
      "source": [
        "def square_root_generator(limit):\n",
        "    n = 1\n",
        "    while n <= limit:\n",
        "        yield n ** 0.5\n",
        "        n += 1\n",
        "\n",
        "# Example usage:\n",
        "limit = 5\n",
        "generator = square_root_generator(limit)\n",
        "\n",
        "for sqrt_value in generator:\n",
        "    print(sqrt_value)\n"
      ]
    },
    {
      "cell_type": "markdown",
      "metadata": {
        "id": "xbe3q55zN43j"
      },
      "source": []
    },
    {
      "cell_type": "markdown",
      "metadata": {
        "id": "vjWhILzGJMpK"
      },
      "source": [
        "# 2. Append a generator to a table with existing data\n",
        "\n",
        "\n",
        "Below you have 2 generators. You will be tasked to load them to duckdb and answer some questions from the data\n",
        "\n",
        "1. Load the first generator and calculate the sum of ages of all people. Make sure to only load it once.\n",
        "2. Append the second generator to the same table as the first.\n",
        "3. **After correctly appending the data, calculate the sum of all ages of people.**\n",
        "\n",
        "\n"
      ]
    },
    {
      "cell_type": "code",
      "execution_count": 2,
      "metadata": {
        "colab": {
          "base_uri": "https://localhost:8080/"
        },
        "id": "2MoaQcdLBEk6",
        "outputId": "c318f21a-b8de-4bdd-a83a-4f218e172920"
      },
      "outputs": [
        {
          "name": "stdout",
          "output_type": "stream",
          "text": [
            "{'ID': 1, 'Name': 'Person_1', 'Age': 26, 'City': 'City_A'}\n",
            "{'ID': 2, 'Name': 'Person_2', 'Age': 27, 'City': 'City_A'}\n",
            "{'ID': 3, 'Name': 'Person_3', 'Age': 28, 'City': 'City_A'}\n",
            "{'ID': 4, 'Name': 'Person_4', 'Age': 29, 'City': 'City_A'}\n",
            "{'ID': 5, 'Name': 'Person_5', 'Age': 30, 'City': 'City_A'}\n",
            "{'ID': 3, 'Name': 'Person_3', 'Age': 33, 'City': 'City_B', 'Occupation': 'Job_3'}\n",
            "{'ID': 4, 'Name': 'Person_4', 'Age': 34, 'City': 'City_B', 'Occupation': 'Job_4'}\n",
            "{'ID': 5, 'Name': 'Person_5', 'Age': 35, 'City': 'City_B', 'Occupation': 'Job_5'}\n",
            "{'ID': 6, 'Name': 'Person_6', 'Age': 36, 'City': 'City_B', 'Occupation': 'Job_6'}\n",
            "{'ID': 7, 'Name': 'Person_7', 'Age': 37, 'City': 'City_B', 'Occupation': 'Job_7'}\n",
            "{'ID': 8, 'Name': 'Person_8', 'Age': 38, 'City': 'City_B', 'Occupation': 'Job_8'}\n"
          ]
        }
      ],
      "source": [
        "def people_1():\n",
        "    for i in range(1, 6):\n",
        "        yield {\"ID\": i, \"Name\": f\"Person_{i}\", \"Age\": 25 + i, \"City\": \"City_A\"}\n",
        "\n",
        "for person in people_1():\n",
        "    print(person)\n",
        "\n",
        "\n",
        "def people_2():\n",
        "    for i in range(3, 9):\n",
        "        yield {\"ID\": i, \"Name\": f\"Person_{i}\", \"Age\": 30 + i, \"City\": \"City_B\", \"Occupation\": f\"Job_{i}\"}\n",
        "\n",
        "\n",
        "for person in people_2():\n",
        "    print(person)\n"
      ]
    },
    {
      "cell_type": "markdown",
      "metadata": {
        "id": "vtdTIm4fvQCN"
      },
      "source": []
    },
    {
      "cell_type": "markdown",
      "metadata": {
        "id": "pY4cFAWOSwN1"
      },
      "source": [
        "# 3. Merge a generator\n",
        "\n",
        "Re-use the generators from Exercise 2.\n",
        "\n",
        "A table's primary key needs to be created from the start, so load your data to a new table with primary key ID.\n",
        "\n",
        "Load your first generator first, and then load the second one with merge. Since they have overlapping IDs, some of the records from the first load should be replaced by the ones from the second load.\n",
        "\n",
        "After loading, you should have a total of 8 records, and ID 3 should have age 33.\n",
        "\n",
        "Question: **Calculate the sum of ages of all the people loaded as described above.**\n"
      ]
    },
    {
      "cell_type": "markdown",
      "metadata": {
        "id": "kKB2GTB9oVjr"
      },
      "source": [
        "# Solution: First make sure that the following modules are installed:"
      ]
    },
    {
      "cell_type": "code",
      "execution_count": 3,
      "metadata": {
        "colab": {
          "base_uri": "https://localhost:8080/"
        },
        "id": "kxS3sOp4MVrj",
        "outputId": "297a450d-3bd7-488f-8e8b-378b1a4dd16e"
      },
      "outputs": [
        {
          "name": "stdout",
          "output_type": "stream",
          "text": [
            "1: 1.0\n",
            "2: 1.4142135623730951\n",
            "3: 1.7320508075688772\n",
            "4: 2.0\n",
            "5: 2.23606797749979\n",
            "6: 2.449489742783178\n",
            "7: 2.6457513110645907\n",
            "8: 2.8284271247461903\n",
            "9: 3.0\n",
            "10: 3.1622776601683795\n",
            "11: 3.3166247903554\n",
            "12: 3.4641016151377544\n",
            "Q2 >>> 13: 3.605551275463989\n",
            "Q1 >>> Total sum for limit = 5: 8.382332347441762\n"
          ]
        }
      ],
      "source": [
        "# Q1 & Q2\n",
        "def square_root_generator(limit):\n",
        "    n = 1\n",
        "    while n <= limit:\n",
        "        yield n ** 0.5\n",
        "        n += 1\n",
        "\n",
        "# Example usage:\n",
        "limit = 13\n",
        "generator = square_root_generator(limit)\n",
        "\n",
        "total = 0\n",
        "counter = 0\n",
        "for sqrt_value in generator:\n",
        "    counter += 1\n",
        "    if counter <= 5:\n",
        "      total += sqrt_value\n",
        "    msg = f\"Q2 >>> {counter}: {sqrt_value}\" if counter == 13 else f\"{counter}: {sqrt_value}\"\n",
        "    print(f\"{msg}\")\n",
        "\n",
        "print(f\"Q1 >>> Total sum for limit = 5: {total}\")\n",
        "\n"
      ]
    },
    {
      "cell_type": "code",
      "execution_count": 6,
      "metadata": {
        "id": "xTVvtyqrfVNq"
      },
      "outputs": [
        {
          "name": "stdout",
          "output_type": "stream",
          "text": [
            "Defaulting to user installation because normal site-packages is not writeable\n",
            "Requirement already satisfied: pip in /Users/crowley/Library/Python/3.9/lib/python/site-packages (24.0)\n"
          ]
        }
      ],
      "source": [
        "! python3 -m pip install --upgrade pip\n"
      ]
    },
    {
      "cell_type": "code",
      "execution_count": 19,
      "metadata": {},
      "outputs": [
        {
          "name": "stdout",
          "output_type": "stream",
          "text": [
            "Defaulting to user installation because normal site-packages is not writeable\n",
            "Requirement already satisfied: dlt[duckdb] in /Users/crowley/Library/Python/3.9/lib/python/site-packages (0.4.4)\n",
            "Requirement already satisfied: PyYAML>=5.4.1 in /Users/crowley/Library/Python/3.9/lib/python/site-packages (from dlt[duckdb]) (6.0.1)\n",
            "Requirement already satisfied: SQLAlchemy>=1.4.0 in /Users/crowley/Library/Python/3.9/lib/python/site-packages (from dlt[duckdb]) (2.0.27)\n",
            "Requirement already satisfied: astunparse>=1.6.3 in /Users/crowley/Library/Python/3.9/lib/python/site-packages (from dlt[duckdb]) (1.6.3)\n",
            "Requirement already satisfied: click>=7.1 in /Users/crowley/Library/Python/3.9/lib/python/site-packages (from dlt[duckdb]) (8.1.7)\n",
            "Requirement already satisfied: fsspec>=2022.4.0 in /Users/crowley/Library/Python/3.9/lib/python/site-packages (from dlt[duckdb]) (2024.2.0)\n",
            "Requirement already satisfied: gitpython>=3.1.29 in /Users/crowley/Library/Python/3.9/lib/python/site-packages (from dlt[duckdb]) (3.1.42)\n",
            "Requirement already satisfied: giturlparse>=0.10.0 in /Users/crowley/Library/Python/3.9/lib/python/site-packages (from dlt[duckdb]) (0.12.0)\n",
            "Requirement already satisfied: hexbytes>=0.2.2 in /Users/crowley/Library/Python/3.9/lib/python/site-packages (from dlt[duckdb]) (1.0.0)\n",
            "Requirement already satisfied: humanize>=4.4.0 in /Users/crowley/Library/Python/3.9/lib/python/site-packages (from dlt[duckdb]) (4.9.0)\n",
            "Requirement already satisfied: jsonpath-ng>=1.5.3 in /Users/crowley/Library/Python/3.9/lib/python/site-packages (from dlt[duckdb]) (1.6.1)\n",
            "Requirement already satisfied: makefun>=1.15.0 in /Users/crowley/Library/Python/3.9/lib/python/site-packages (from dlt[duckdb]) (1.15.2)\n",
            "Requirement already satisfied: orjson<=3.9.10,>=3.6.7 in /Users/crowley/Library/Python/3.9/lib/python/site-packages (from dlt[duckdb]) (3.9.10)\n",
            "Requirement already satisfied: packaging>=21.1 in /Users/crowley/Library/Python/3.9/lib/python/site-packages (from dlt[duckdb]) (23.2)\n",
            "Requirement already satisfied: pathvalidate>=2.5.2 in /Users/crowley/Library/Python/3.9/lib/python/site-packages (from dlt[duckdb]) (3.2.0)\n",
            "Requirement already satisfied: pendulum>=2.1.2 in /Users/crowley/Library/Python/3.9/lib/python/site-packages (from dlt[duckdb]) (3.0.0)\n",
            "Requirement already satisfied: pytz>=2022.6 in /Users/crowley/Library/Python/3.9/lib/python/site-packages (from dlt[duckdb]) (2024.1)\n",
            "Requirement already satisfied: requests>=2.26.0 in /Users/crowley/Library/Python/3.9/lib/python/site-packages (from dlt[duckdb]) (2.31.0)\n",
            "Requirement already satisfied: requirements-parser>=0.5.0 in /Users/crowley/Library/Python/3.9/lib/python/site-packages (from dlt[duckdb]) (0.5.0)\n",
            "Requirement already satisfied: semver>=2.13.0 in /Users/crowley/Library/Python/3.9/lib/python/site-packages (from dlt[duckdb]) (3.0.2)\n",
            "Requirement already satisfied: setuptools>=65.6.0 in /Users/crowley/Library/Python/3.9/lib/python/site-packages (from dlt[duckdb]) (69.1.0)\n",
            "Requirement already satisfied: simplejson>=3.17.5 in /Users/crowley/Library/Python/3.9/lib/python/site-packages (from dlt[duckdb]) (3.19.2)\n",
            "Requirement already satisfied: tenacity>=8.0.2 in /Users/crowley/Library/Python/3.9/lib/python/site-packages (from dlt[duckdb]) (8.2.3)\n",
            "Requirement already satisfied: tomlkit>=0.11.3 in /Users/crowley/Library/Python/3.9/lib/python/site-packages (from dlt[duckdb]) (0.12.3)\n",
            "Requirement already satisfied: typing-extensions>=4.0.0 in /Users/crowley/Library/Python/3.9/lib/python/site-packages (from dlt[duckdb]) (4.9.0)\n",
            "Requirement already satisfied: tzdata>=2022.1 in /Users/crowley/Library/Python/3.9/lib/python/site-packages (from dlt[duckdb]) (2024.1)\n",
            "Requirement already satisfied: duckdb<0.10.0,>=0.6.1 in /Users/crowley/Library/Python/3.9/lib/python/site-packages (from dlt[duckdb]) (0.9.2)\n",
            "Requirement already satisfied: wheel<1.0,>=0.23.0 in /Library/Developer/CommandLineTools/Library/Frameworks/Python3.framework/Versions/3.9/lib/python3.9/site-packages (from astunparse>=1.6.3->dlt[duckdb]) (0.37.0)\n",
            "Requirement already satisfied: six<2.0,>=1.6.1 in /Library/Developer/CommandLineTools/Library/Frameworks/Python3.framework/Versions/3.9/lib/python3.9/site-packages (from astunparse>=1.6.3->dlt[duckdb]) (1.15.0)\n",
            "Requirement already satisfied: gitdb<5,>=4.0.1 in /Users/crowley/Library/Python/3.9/lib/python/site-packages (from gitpython>=3.1.29->dlt[duckdb]) (4.0.11)\n",
            "Requirement already satisfied: ply in /Users/crowley/Library/Python/3.9/lib/python/site-packages (from jsonpath-ng>=1.5.3->dlt[duckdb]) (3.11)\n",
            "Requirement already satisfied: python-dateutil>=2.6 in /Users/crowley/Library/Python/3.9/lib/python/site-packages (from pendulum>=2.1.2->dlt[duckdb]) (2.8.2)\n",
            "Requirement already satisfied: time-machine>=2.6.0 in /Users/crowley/Library/Python/3.9/lib/python/site-packages (from pendulum>=2.1.2->dlt[duckdb]) (2.13.0)\n",
            "Requirement already satisfied: charset-normalizer<4,>=2 in /Users/crowley/Library/Python/3.9/lib/python/site-packages (from requests>=2.26.0->dlt[duckdb]) (3.3.2)\n",
            "Requirement already satisfied: idna<4,>=2.5 in /Users/crowley/Library/Python/3.9/lib/python/site-packages (from requests>=2.26.0->dlt[duckdb]) (3.6)\n",
            "Requirement already satisfied: urllib3<3,>=1.21.1 in /Users/crowley/Library/Python/3.9/lib/python/site-packages (from requests>=2.26.0->dlt[duckdb]) (2.2.0)\n",
            "Requirement already satisfied: certifi>=2017.4.17 in /Users/crowley/Library/Python/3.9/lib/python/site-packages (from requests>=2.26.0->dlt[duckdb]) (2024.2.2)\n",
            "Requirement already satisfied: types-setuptools>=57.0.0 in /Users/crowley/Library/Python/3.9/lib/python/site-packages (from requirements-parser>=0.5.0->dlt[duckdb]) (69.1.0.20240215)\n",
            "Requirement already satisfied: smmap<6,>=3.0.1 in /Users/crowley/Library/Python/3.9/lib/python/site-packages (from gitdb<5,>=4.0.1->gitpython>=3.1.29->dlt[duckdb]) (5.0.1)\n",
            "Defaulting to user installation because normal site-packages is not writeable\n",
            "Requirement already satisfied: pandas in /Users/crowley/Library/Python/3.9/lib/python/site-packages (2.2.0)\n",
            "Requirement already satisfied: numpy<2,>=1.22.4 in /Users/crowley/Library/Python/3.9/lib/python/site-packages (from pandas) (1.26.4)\n",
            "Requirement already satisfied: python-dateutil>=2.8.2 in /Users/crowley/Library/Python/3.9/lib/python/site-packages (from pandas) (2.8.2)\n",
            "Requirement already satisfied: pytz>=2020.1 in /Users/crowley/Library/Python/3.9/lib/python/site-packages (from pandas) (2024.1)\n",
            "Requirement already satisfied: tzdata>=2022.7 in /Users/crowley/Library/Python/3.9/lib/python/site-packages (from pandas) (2024.1)\n",
            "Requirement already satisfied: six>=1.5 in /Library/Developer/CommandLineTools/Library/Frameworks/Python3.framework/Versions/3.9/lib/python3.9/site-packages (from python-dateutil>=2.8.2->pandas) (1.15.0)\n",
            "Defaulting to user installation because normal site-packages is not writeable\n",
            "Requirement already satisfied: numpy in /Users/crowley/Library/Python/3.9/lib/python/site-packages (1.26.4)\n"
          ]
        }
      ],
      "source": [
        "#Install the dependencies in Jupyter Notebook rather than Google Colab\n",
        "# %%capture\n",
        "! pip3 install 'dlt[duckdb]'\n",
        "! pip3 install pandas\n",
        "! pip3 install numpy\n",
        "\n"
      ]
    },
    {
      "cell_type": "code",
      "execution_count": 20,
      "metadata": {
        "id": "a2-PRBAkGC2K"
      },
      "outputs": [],
      "source": [
        "import dlt\n",
        "import duckdb\n",
        "\n",
        "# define the connection to load to.\n",
        "pipeline = dlt.pipeline(pipeline_name=\"dlt_workshop\", destination='duckdb', dataset_name='people_ds')"
      ]
    },
    {
      "cell_type": "code",
      "execution_count": 21,
      "metadata": {
        "colab": {
          "base_uri": "https://localhost:8080/"
        },
        "id": "t9-AhQs3PebJ",
        "outputId": "0da99bae-4207-4dec-e56f-6d77ff6e43cc"
      },
      "outputs": [
        {
          "name": "stdout",
          "output_type": "stream",
          "text": [
            "Pipeline dlt_workshop load step completed in 0.16 seconds\n",
            "1 load package(s) were loaded to destination duckdb and into dataset people_ds\n",
            "The duckdb destination used duckdb:////Users/crowley/workspace/de-zoomcamp/workshops/dlt/dlt_workshop.duckdb location to store data\n",
            "Load package 1708096709.415416 is LOADED and contains no failed jobs\n"
          ]
        }
      ],
      "source": [
        "#Q3\n",
        "#1. Load the first generator\n",
        "\n",
        "data = []\n",
        "\n",
        "for p in people_1():\n",
        "  data.append(p)\n",
        "\n",
        "\n",
        "info = pipeline.run(data,\n",
        "\t\t\t\t\t\t\t\t\t\ttable_name=\"people\",\n",
        "\t\t\t\t\t\t\t\t\t\twrite_disposition=\"replace\",\n",
        "                    primary_key=\"ID\")\n",
        "\n",
        "print(info)"
      ]
    },
    {
      "cell_type": "code",
      "execution_count": 23,
      "metadata": {
        "colab": {
          "base_uri": "https://localhost:8080/"
        },
        "id": "kEsvcXB1QF3g",
        "outputId": "a2b5963f-ddb2-43e6-8fb1-d2cc3f26c98d"
      },
      "outputs": [
        {
          "name": "stdout",
          "output_type": "stream",
          "text": [
            "age    140\n",
            "dtype: int64\n"
          ]
        }
      ],
      "source": [
        "# and calculate the sum of ages of all people. Make sure to only load it once.\n",
        "with pipeline.sql_client() as client:\n",
        "    with client.execute_query(\n",
        "        'SELECT age FROM people'\n",
        "    ) as table:\n",
        "        # calling `df` on a cursor, returns the data as a DataFrame\n",
        "        ages = table.df()\n",
        "    \n",
        "ages_sum = ages.sum(0)\n",
        "\n",
        "print(ages_sum)"
      ]
    },
    {
      "cell_type": "code",
      "execution_count": 24,
      "metadata": {
        "colab": {
          "base_uri": "https://localhost:8080/"
        },
        "id": "_MoB-mIAQGK_",
        "outputId": "917fb9d1-4d7d-41a8-9e04-dad385d3c9c9"
      },
      "outputs": [
        {
          "name": "stdout",
          "output_type": "stream",
          "text": [
            "Pipeline dlt_workshop load step completed in 0.20 seconds\n",
            "1 load package(s) were loaded to destination duckdb and into dataset people_ds\n",
            "The duckdb destination used duckdb:////Users/crowley/workspace/de-zoomcamp/workshops/dlt/dlt_workshop.duckdb location to store data\n",
            "Load package 1708096730.665092 is LOADED and contains no failed jobs\n"
          ]
        }
      ],
      "source": [
        "#2. Append the second generator to the same table as the first.\n",
        "data = []\n",
        "\n",
        "for p in people_2():\n",
        "  data.append(p)\n",
        "\n",
        "\n",
        "info = pipeline.run(data,\n",
        "\t\t\t\t\t\t\t\t\t\ttable_name=\"people\",\n",
        "\t\t\t\t\t\t\t\t\t\twrite_disposition=\"append\",\n",
        "                    primary_key=\"ID\")\n",
        "\n",
        "print(info)\n"
      ]
    },
    {
      "cell_type": "code",
      "execution_count": 25,
      "metadata": {
        "colab": {
          "base_uri": "https://localhost:8080/"
        },
        "id": "EHza63KgRp5X",
        "outputId": "1b8ca33c-db65-4bf4-cc14-4ab6e0f21099"
      },
      "outputs": [
        {
          "name": "stdout",
          "output_type": "stream",
          "text": [
            "Q3 >>> sum of all people ages: age    353\n",
            "dtype: int64\n"
          ]
        }
      ],
      "source": [
        "#3. After correctly appending the data, calculate the sum of all ages of people.\n",
        "\n",
        "with pipeline.sql_client() as client:\n",
        "    with client.execute_query(\n",
        "        'SELECT age FROM people'\n",
        "    ) as table:\n",
        "        # calling `df` on a cursor, returns the data as a DataFrame\n",
        "        ages = table.df()\n",
        "\n",
        "        #print(ages)\n",
        "ages_sum = ages.sum(0)\n",
        "\n",
        "print(f\"Q3 >>> sum of all people ages: {ages_sum}\")"
      ]
    },
    {
      "cell_type": "code",
      "execution_count": 26,
      "metadata": {
        "colab": {
          "base_uri": "https://localhost:8080/"
        },
        "id": "MFwoUgPRUAjR",
        "outputId": "36fc730e-fd00-461b-bb8f-7ab58c430ce2"
      },
      "outputs": [
        {
          "name": "stdout",
          "output_type": "stream",
          "text": [
            "Pipeline dlt_workshop load step completed in 0.20 seconds\n",
            "1 load package(s) were loaded to destination duckdb and into dataset people_ds\n",
            "The duckdb destination used duckdb:////Users/crowley/workspace/de-zoomcamp/workshops/dlt/dlt_workshop.duckdb location to store data\n",
            "Load package 1708096742.560247 is LOADED and contains no failed jobs\n"
          ]
        }
      ],
      "source": [
        "# Q4\n",
        "\n",
        "#Re-use the generators from Exercise 2.\n",
        "\n",
        "#A table's primary key needs to be created from the start, so load your data to a new table with primary key ID.\n",
        "#Load your first generator first,\n",
        "\n",
        "data = []\n",
        "\n",
        "for p in people_1():\n",
        "  data.append(p)\n",
        "\n",
        "\n",
        "info = pipeline.run(data,\n",
        "\t\t\t\t\t\t\t\t\t\ttable_name=\"people_q4\",\n",
        "\t\t\t\t\t\t\t\t\t\twrite_disposition=\"replace\",\n",
        "                    primary_key=\"ID\")\n",
        "\n",
        "print(info)\n"
      ]
    },
    {
      "cell_type": "code",
      "execution_count": 27,
      "metadata": {
        "colab": {
          "base_uri": "https://localhost:8080/"
        },
        "id": "0Bf4qnT9Uj-w",
        "outputId": "e79fab76-50f6-4a6c-bc71-e27c85978dfe"
      },
      "outputs": [
        {
          "name": "stdout",
          "output_type": "stream",
          "text": [
            "Pipeline dlt_workshop load step completed in 0.37 seconds\n",
            "1 load package(s) were loaded to destination duckdb and into dataset people_ds\n",
            "The duckdb destination used duckdb:////Users/crowley/workspace/de-zoomcamp/workshops/dlt/dlt_workshop.duckdb location to store data\n",
            "Load package 1708096749.693969 is LOADED and contains no failed jobs\n"
          ]
        }
      ],
      "source": [
        "# and then load the second one with merge. Since they have overlapping IDs, some of the records from the first load should be replaced by the ones from the second load.\n",
        "\n",
        "data = []\n",
        "\n",
        "for p in people_2():\n",
        "  data.append(p)\n",
        "\n",
        "\n",
        "info = pipeline.run(data,\n",
        "\t\t\t\t\t\t\t\t\t\ttable_name=\"people_q4\",\n",
        "\t\t\t\t\t\t\t\t\t\twrite_disposition=\"merge\",\n",
        "                    primary_key=\"ID\")\n",
        "\n",
        "print(info)\n"
      ]
    },
    {
      "cell_type": "code",
      "execution_count": 28,
      "metadata": {
        "colab": {
          "base_uri": "https://localhost:8080/"
        },
        "id": "BTfcNRhiUtoo",
        "outputId": "09360f3a-0184-4aec-da19-1a32a44a306b"
      },
      "outputs": [
        {
          "name": "stdout",
          "output_type": "stream",
          "text": [
            "   id      name  age    city       _dlt_load_id         _dlt_id occupation\n",
            "0   1  Person_1   26  City_A  1708096742.560247  ftwaxVJKSXDIZA       None\n",
            "1   2  Person_2   27  City_A  1708096742.560247  ZZzfzdrpYYuntQ       None\n",
            "4   3  Person_3   33  City_B  1708096749.693969  07+vDAqMvog+aw      Job_3\n",
            "7   4  Person_4   34  City_B  1708096749.693969  gRqed1HM4oJ5vg      Job_4\n",
            "2   5  Person_5   35  City_B  1708096749.693969  m/2R0fwFsY0NaA      Job_5\n",
            "5   6  Person_6   36  City_B  1708096749.693969  O59CaIpZGhJp+g      Job_6\n",
            "6   7  Person_7   37  City_B  1708096749.693969  pjiXyMZvPd6ylA      Job_7\n",
            "3   8  Person_8   38  City_B  1708096749.693969  goQNnxtmTqX/vw      Job_8\n",
            "Q4 >>> sum of all people ages: 266\n"
          ]
        }
      ],
      "source": [
        "#After loading, you should have a total of 8 records, and ID 3 should have age 33.\n",
        "with pipeline.sql_client() as client:\n",
        "    with client.execute_query(\n",
        "        'SELECT * FROM people_q4'\n",
        "    ) as table:\n",
        "        # calling `df` on a cursor, returns the data as a DataFrame\n",
        "        people = table.df()\n",
        "\n",
        "        print(people.sort_values(\"id\"))\n",
        "people_ages_sum = people[\"age\"].sum(0)\n",
        "\n",
        "print(f\"Q4 >>> sum of all people ages: {people_ages_sum}\")\n",
        "\n",
        "#Question: Calculate the sum of ages of all the people loaded as described above."
      ]
    },
    {
      "cell_type": "markdown",
      "metadata": {
        "id": "PoTJu4kbGG0z"
      },
      "source": [
        "Questions? difficulties? We are here to help.\n",
        "- DTC data engineering course channel: https://datatalks-club.slack.com/archives/C01FABYF2RG\n",
        "- dlt's DTC cohort channel: https://dlthub-community.slack.com/archives/C06GAEX2VNX"
      ]
    }
  ],
  "metadata": {
    "colab": {
      "provenance": []
    },
    "kernelspec": {
      "display_name": "Python 3",
      "name": "python3"
    },
    "language_info": {
      "codemirror_mode": {
        "name": "ipython",
        "version": 3
      },
      "file_extension": ".py",
      "mimetype": "text/x-python",
      "name": "python",
      "nbconvert_exporter": "python",
      "pygments_lexer": "ipython3",
      "version": "3.9.6"
    }
  },
  "nbformat": 4,
  "nbformat_minor": 0
}
